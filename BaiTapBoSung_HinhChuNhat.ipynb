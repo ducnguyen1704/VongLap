{
 "cells": [
  {
   "cell_type": "markdown",
   "metadata": {},
   "source": [
    "# Bài tập bổ sung -  vẽ hình chữ nhật bằng print"
   ]
  },
  {
   "cell_type": "code",
   "execution_count": 40,
   "metadata": {},
   "outputs": [
    {
     "name": "stdout",
     "output_type": "stream",
     "text": [
      "Nhập vào 2 cạnh của hình chữ nhật: 10 5\n"
     ]
    }
   ],
   "source": [
    "w, h = map(int, input(\"Nhập vào 2 cạnh của hình chữ nhật: \").split(\" \"))"
   ]
  },
  {
   "cell_type": "code",
   "execution_count": 41,
   "metadata": {},
   "outputs": [
    {
     "name": "stdout",
     "output_type": "stream",
     "text": [
      "********** \n",
      "*        * \n",
      "*        * \n",
      "*        * \n",
      "********** \n"
     ]
    }
   ],
   "source": [
    "i = 1\n",
    "if w > 0 and h > 0:\n",
    "    \n",
    "    while i <= h:\n",
    "        j = 1\n",
    "        while j <= w:\n",
    "            if i == 1 or i == h or j == 1 or j == w:\n",
    "                print(\"*\", end=\"\")\n",
    "            else:\n",
    "                print(\"\", end=\" \")\n",
    "            j+=1\n",
    "        print(\" \", end=\"\\n\")\n",
    "        i+=1\n",
    "else: \n",
    "    print(\"Nhập lại\")\n"
   ]
  },
  {
   "cell_type": "code",
   "execution_count": null,
   "metadata": {},
   "outputs": [],
   "source": []
  }
 ],
 "metadata": {
  "kernelspec": {
   "display_name": "Python 3",
   "language": "python",
   "name": "python3"
  },
  "language_info": {
   "codemirror_mode": {
    "name": "ipython",
    "version": 3
   },
   "file_extension": ".py",
   "mimetype": "text/x-python",
   "name": "python",
   "nbconvert_exporter": "python",
   "pygments_lexer": "ipython3",
   "version": "3.7.6"
  }
 },
 "nbformat": 4,
 "nbformat_minor": 4
}
