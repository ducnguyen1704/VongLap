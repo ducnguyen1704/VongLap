{
 "cells": [
  {
   "cell_type": "markdown",
   "metadata": {},
   "source": [
    "# vẽ hình chữ nhật bằng ký tự"
   ]
  },
  {
   "cell_type": "code",
   "execution_count": 2,
   "metadata": {},
   "outputs": [
    {
     "name": "stdout",
     "output_type": "stream",
     "text": [
      "Ký tự bạn muốn in ra?: -\n",
      "Chiêu dài?: 30\n",
      "Chiều rộng?: 10\n",
      "------------------------------\n",
      "-                            -\n",
      "-                            -\n",
      "-                            -\n",
      "-                            -\n",
      "-                            -\n",
      "-                            -\n",
      "-                            -\n",
      "-                            -\n",
      "------------------------------\n"
     ]
    }
   ],
   "source": [
    "char = input('Ký tự bạn muốn in ra?: ')\n",
    "width = int(input('Chiêu dài?: '))\n",
    "height = int(input('Chiều rộng?: '))\n",
    "\n",
    "for i in range(1,height + 1):\n",
    "    print_str = ''\n",
    "    for j in range(1,width + 1):\n",
    "        if i == 1 or i == height:\n",
    "            print_str += char\n",
    "        else:\n",
    "            if j == 1 or j == width:\n",
    "                print_str += char\n",
    "            else:\n",
    "                print_str += ' '\n",
    "    print(print_str)"
   ]
  },
  {
   "cell_type": "code",
   "execution_count": null,
   "metadata": {},
   "outputs": [],
   "source": []
  }
 ],
 "metadata": {
  "kernelspec": {
   "display_name": "Python 3",
   "language": "python",
   "name": "python3"
  },
  "language_info": {
   "codemirror_mode": {
    "name": "ipython",
    "version": 3
   },
   "file_extension": ".py",
   "mimetype": "text/x-python",
   "name": "python",
   "nbconvert_exporter": "python",
   "pygments_lexer": "ipython3",
   "version": "3.7.6"
  }
 },
 "nbformat": 4,
 "nbformat_minor": 4
}
