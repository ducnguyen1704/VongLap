{
 "cells": [
  {
   "cell_type": "markdown",
   "metadata": {},
   "source": [
    "# Rùa bị quản trong nhà"
   ]
  },
  {
   "cell_type": "markdown",
   "metadata": {},
   "source": [
    "* Mô tả bài toán\n",
    "\n",
    "- Vẽ vòng tròn thể hiện vòng giới hạn, không cho rùa chạy ra khỏi vòng này. \n",
    "- Vị trí ban đầu của rùa ở chính giữa vòng tròn, hướng rùa chạy ngẫu nhiên.\n",
    "- Khi rùa chạy gặp phải vòng tròn thì bị bắt về lại đúng vị trí ban đầu, chính giữa vòng tròn, rùa tiếp tục cố gắng thoát khỏi vòng tròn theo hướng khác. Cứ như thế, rùa không bao giờ thoát ra khỏi vòng tròn. Chương trình kết thúc khi số lần cố gắng trốn thoát của rùa = 10."
   ]
  },
  {
   "cell_type": "code",
   "execution_count": 1,
   "metadata": {},
   "outputs": [],
   "source": [
    "# Import thư viện đồ họa turtle\n",
    "import turtle\n",
    "# Import thư viện sinh số ngẫu nhiên\n",
    "import random as r"
   ]
  },
  {
   "cell_type": "code",
   "execution_count": 2,
   "metadata": {},
   "outputs": [],
   "source": [
    "# Khởi tạo đối tượng turtle và đặt ví trí\n",
    "# con trỏ ở điểm 0, -200. Mục đích để vẽ\n",
    "# đường bao nhốt rùa cân chính giữa màn hình\n",
    "t = turtle.Turtle()\n",
    "t.hideturtle()\n",
    "t.penup()\n",
    "t.goto(0, -200)\n",
    "\n",
    "# Vẽ đường bao nhốt rùa\n",
    "# đường bao có màu đen\n",
    "t.speed(5)\n",
    "t.pensize(10)\n",
    "t.pencolor(\"black\")\n",
    "t.pendown()\n",
    "t.circle(200)"
   ]
  },
  {
   "cell_type": "code",
   "execution_count": 3,
   "metadata": {},
   "outputs": [],
   "source": [
    "# Đặt con trỏ rùa về chính giữa đường bao\n",
    "# Đổi màu rùa màu xanh\n",
    "t.penup()\n",
    "t.speed(10)\n",
    "t.shape(\"turtle\")\n",
    "t.color(\"red\")\n",
    "t.pencolor('black')\n",
    "t.goto(0, 0)\n",
    "\n",
    "# Tạo hướng ngẫu nhiên ban đầu cho rùa\n",
    "# khi ở vị trí chính giữa đường bao\n",
    "angle = r.randint(0, 360)\n",
    "t.right(angle)\n",
    "t.showturtle()"
   ]
  },
  {
   "cell_type": "code",
   "execution_count": null,
   "metadata": {},
   "outputs": [],
   "source": [
    "# Bắt đầu cho rùa chạy thoát khỏi đường bao\n",
    "# Khi rùa di chuyển đến đường bao, bắt rùa\n",
    "# về lại vị trí chính giữa của hộp\n",
    "count = 0\n",
    "while True:\n",
    "    t.speed(1)\n",
    "    # rùa chỉ di chuyển một khoảng cách\n",
    "    # hơi bé hơn bán kính của hộp tròn là 200\n",
    "    # tránh rùa di chuyển đè lên vạch\n",
    "    t.forward(200)\n",
    "    # Bắt rùa về vị trí ban đầu, chính giữa hộp tròn\n",
    "    t.hideturtle()\n",
    "    t.speed(10)\n",
    "    t.goto(0, 0)\n",
    "    angle = r.randint(0, 360)\n",
    "    # Tạo hướng mới cho rùa chạy, thử vận may mới\n",
    "    t.right(angle)\n",
    "    t.showturtle()\n",
    "    # Khi rùa thử đến số lần nào đó thì dừng lại\n",
    "    # kết thúc chương trình bằng lệnh break\n",
    "    count += 1\n",
    "    if count == 10:\n",
    "        break\n",
    "\n",
    "turtle.done()"
   ]
  },
  {
   "cell_type": "code",
   "execution_count": null,
   "metadata": {},
   "outputs": [],
   "source": []
  }
 ],
 "metadata": {
  "kernelspec": {
   "display_name": "Python 3",
   "language": "python",
   "name": "python3"
  },
  "language_info": {
   "codemirror_mode": {
    "name": "ipython",
    "version": 3
   },
   "file_extension": ".py",
   "mimetype": "text/x-python",
   "name": "python",
   "nbconvert_exporter": "python",
   "pygments_lexer": "ipython3",
   "version": "3.7.6"
  }
 },
 "nbformat": 4,
 "nbformat_minor": 4
}
